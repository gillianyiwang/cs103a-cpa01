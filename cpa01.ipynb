{
 "cells": [
  {
   "cell_type": "markdown",
   "id": "535a95ee-a90d-4e1f-bfcf-d0f91d0c7c14",
   "metadata": {},
   "source": [
    "# CPA01 - Data Analysis of Global Power Plants\n",
    "This notebook uses the Global Power Plant Database that contains data of power plants around the world. The database contains about 35,000 power plants in 167 countries.\n",
    "* [Global Power Plant Database](https://datasets.wri.org/dataset/globalpowerplantdatabase) (Source: World Resources Institute)\n",
    "\n",
    "Here are some questions I'm trying to answer using the dataset:\n",
    "* How many power plants does the US have?\n",
    "* Which countries have the most power plants? What kinds of primary fuels do they use?\n",
    "* Which countries have the highest total electrical generating capacity?\n",
    "* What are the most common primary fuels around the world?\n",
    "* Which power plants are in the high latitudes?\n",
    "\n",
    "##### Note: The answers (analysis) will be marked in bold after each plot/chart/pivot table."
   ]
  },
  {
   "cell_type": "markdown",
   "id": "2929c118-7989-4fba-86a4-5b651ed792b5",
   "metadata": {},
   "source": [
    "&emsp;"
   ]
  },
  {
   "cell_type": "code",
   "execution_count": null,
   "id": "fcf64e7b-c04e-499b-9333-caf1637139c0",
   "metadata": {},
   "outputs": [],
   "source": [
    "import numpy as np\n",
    "import pandas as pd\n",
    "from matplotlib import pyplot as plt"
   ]
  },
  {
   "cell_type": "markdown",
   "id": "5030b60d-f75c-48a8-898d-d13377342afc",
   "metadata": {},
   "source": [
    "## Read the Data Into a Data Frame"
   ]
  },
  {
   "cell_type": "code",
   "execution_count": null,
   "id": "31a1c981-56c2-4161-a497-300d60ced4da",
   "metadata": {},
   "outputs": [],
   "source": [
    "# set low_memory to False to deal with DtypeWarning\n",
    "df = pd.read_csv(\"data/global_power_plant_database.csv\", low_memory = False)\n",
    "df"
   ]
  },
  {
   "cell_type": "markdown",
   "id": "9ea7cccf-23e1-4463-880a-f9582330a964",
   "metadata": {},
   "source": [
    "## Data Exploration"
   ]
  },
  {
   "cell_type": "markdown",
   "id": "8fcdb23a-d778-4857-9f18-500d6c23a128",
   "metadata": {},
   "source": [
    "#### Rough Overview"
   ]
  },
  {
   "cell_type": "code",
   "execution_count": null,
   "id": "e08c077f-3840-4738-8095-9e42387f0b39",
   "metadata": {},
   "outputs": [],
   "source": [
    "df.describe()"
   ]
  },
  {
   "cell_type": "markdown",
   "id": "71cf5bbc-3201-46e5-8e37-e47d2e2554d4",
   "metadata": {},
   "source": [
    "#### Columns in the Dataset"
   ]
  },
  {
   "cell_type": "code",
   "execution_count": null,
   "id": "4212a54a-b18a-4381-b090-04a52ea5fd13",
   "metadata": {},
   "outputs": [],
   "source": [
    "df.columns"
   ]
  },
  {
   "cell_type": "markdown",
   "id": "52bda326-01f7-4716-8567-99a1a02f17cb",
   "metadata": {},
   "source": [
    "##### Above is the variable names (column names) of the dataset."
   ]
  },
  {
   "cell_type": "markdown",
   "id": "12ac0037-6acf-4f62-ad57-c310a943f43a",
   "metadata": {},
   "source": [
    "#### Rows in the Dataset"
   ]
  },
  {
   "cell_type": "code",
   "execution_count": null,
   "id": "da580f57-08a2-48ee-84c2-ea9762ec6838",
   "metadata": {},
   "outputs": [],
   "source": [
    "len(df.index)"
   ]
  },
  {
   "cell_type": "markdown",
   "id": "b1aa4b85-6a5e-42f7-9f00-b6e4576cbb92",
   "metadata": {},
   "source": [
    "##### There are 34936 power plants in the world included in the dataset."
   ]
  },
  {
   "cell_type": "markdown",
   "id": "bd915104-8c22-4ac1-be38-3db441b3411c",
   "metadata": {},
   "source": [
    "#### Countries Included in the Dataset"
   ]
  },
  {
   "cell_type": "markdown",
   "id": "f2fa7a09-225c-4791-ae9b-52d07d76a787",
   "metadata": {},
   "source": [
    "List of countries:"
   ]
  },
  {
   "cell_type": "code",
   "execution_count": null,
   "id": "cde520c2-0315-4ebf-8d9a-058d87d294d3",
   "metadata": {},
   "outputs": [],
   "source": [
    "country_long = df[\"country_long\"].unique()\n",
    "country_long"
   ]
  },
  {
   "cell_type": "markdown",
   "id": "605b53e8-d246-4dd2-a5ce-3f6b87479f53",
   "metadata": {},
   "source": [
    "##### Above are all countries included in the dataset."
   ]
  },
  {
   "cell_type": "code",
   "execution_count": null,
   "id": "53a129ae-215f-47eb-9531-e04e696db97e",
   "metadata": {},
   "outputs": [],
   "source": [
    "len(country_long)"
   ]
  },
  {
   "cell_type": "markdown",
   "id": "e4d53538-7edd-40b5-8bd4-f5698ef61069",
   "metadata": {},
   "source": [
    "##### There are 167 countries included in the dataset."
   ]
  },
  {
   "cell_type": "markdown",
   "id": "e56c7f91-284e-45f8-90cf-44f437578499",
   "metadata": {},
   "source": [
    "#### Types of Primary Fuels"
   ]
  },
  {
   "cell_type": "code",
   "execution_count": null,
   "id": "cb48e996-bc3a-454e-ae1e-462f5ce187f3",
   "metadata": {},
   "outputs": [],
   "source": [
    "primary_fuel = df[\"primary_fuel\"].unique()\n",
    "primary_fuel"
   ]
  },
  {
   "cell_type": "markdown",
   "id": "a0098b08-580e-4eb0-9f93-214ecba80f99",
   "metadata": {},
   "source": [
    "##### Above are the types of primary fuels of power plants around the world."
   ]
  },
  {
   "cell_type": "markdown",
   "id": "afc3a40d-a9e2-45b9-a6b3-a90f91ebea67",
   "metadata": {},
   "source": [
    "## Answers to the questions\n",
    "* How many power plants does the US have?"
   ]
  },
  {
   "cell_type": "code",
   "execution_count": null,
   "id": "bd7ee01c-0b7a-40ba-ad15-8de955083b43",
   "metadata": {},
   "outputs": [],
   "source": [
    "df_usa = df[df[\"country\"] == \"USA\"]\n",
    "df_usa"
   ]
  },
  {
   "cell_type": "markdown",
   "id": "d906ec05-e22f-44f6-b08a-73f87ea0392f",
   "metadata": {},
   "source": [
    "##### Above is data with power plants in the US only."
   ]
  },
  {
   "cell_type": "code",
   "execution_count": null,
   "id": "fbb2206a-cdb5-451a-9a0f-a8c3967da937",
   "metadata": {},
   "outputs": [],
   "source": [
    "len(df_usa.index)"
   ]
  },
  {
   "cell_type": "markdown",
   "id": "693f55a3-3151-46d6-9c95-dcafd825ef04",
   "metadata": {},
   "source": [
    "##### There are 9833 power plants in the US."
   ]
  },
  {
   "cell_type": "markdown",
   "id": "393f01fb-c713-4db0-a282-44c158a061ff",
   "metadata": {},
   "source": [
    "* Which countries have the most power plants? What kinds of primary fuels do they use?"
   ]
  },
  {
   "cell_type": "code",
   "execution_count": null,
   "id": "96edcbe2-b007-45b8-b0f4-f6956919e432",
   "metadata": {},
   "outputs": [],
   "source": [
    "country_pp = df.groupby(\"country_long\").size()\n",
    "country_pp.sort_values().plot.barh(figsize = (15,35), color = \"steelblue\")\n",
    "plt.grid()\n",
    "plt.title(\"Number of Power Plants by Country\")\n",
    "plt.xlabel(\"Number\")\n",
    "plt.ylabel(\"Country\")"
   ]
  },
  {
   "cell_type": "code",
   "execution_count": null,
   "id": "cf80e363-f7a4-483e-b3b7-289f5a0741c2",
   "metadata": {},
   "outputs": [],
   "source": [
    "country_pp.sort_values(ascending = False).head(5)"
   ]
  },
  {
   "cell_type": "markdown",
   "id": "64d029a0-5b35-4565-b6e8-34b8947c73e1",
   "metadata": {},
   "source": [
    "##### Above are the top 5 countries having the most power plants. The US has 9,833, China has 4,235, the UK has 2,751, Brazil has 2,360, and France has 2,155 power plants."
   ]
  },
  {
   "cell_type": "code",
   "execution_count": null,
   "id": "78265b33-4a53-4511-8eef-203ef88ba279",
   "metadata": {},
   "outputs": [],
   "source": [
    "# use fill_value = 0 to get rid of NaNs\n",
    "df_top5 = df[df[\"country_long\"].isin([\"United States of America\", \"China\", \"United Kingdom\", \"Brazil\", \"France\"])].copy()\n",
    "pivot = pd.pivot_table(df_top5, values = [\"gppd_idnr\"], index = [\"primary_fuel\"],\n",
    "                       columns = [\"country_long\"], aggfunc = \"count\", fill_value = 0)\n",
    "pivot"
   ]
  },
  {
   "cell_type": "code",
   "execution_count": null,
   "id": "2a0b72b0-2500-48eb-a3eb-13d03ca3ea63",
   "metadata": {},
   "outputs": [],
   "source": [
    "pivot.plot.bar(figsize = (15,10), stacked = True)\n",
    "plt.title(\"Primary Fuels\")\n",
    "plt.xlabel(\"Number of Power Plants Using that Primary Fuel\")\n",
    "plt.ylabel(\"Kinds of Primary Fuels\")\n",
    "plt.legend([\"Brazil\", \"China\", \"France\", \"United Kingdom\", \"United States of America\"])"
   ]
  },
  {
   "cell_type": "markdown",
   "id": "037c9118-f028-4f79-8751-630c565d0afd",
   "metadata": {},
   "source": [
    "##### Above are the pivot table and the stack bar chart showing the energy source used in primary electricity generation in the top 5 countries. Solar, gas, hydro, wind, and oill are some fuels used the most within them."
   ]
  },
  {
   "cell_type": "markdown",
   "id": "804075dc-1fe6-416a-bf77-664377df0471",
   "metadata": {},
   "source": [
    "* Which countries have the highest total electrical generating capacity?"
   ]
  },
  {
   "cell_type": "code",
   "execution_count": null,
   "id": "461e09ab-54a9-41b8-8006-1bfc0e8b4d7b",
   "metadata": {},
   "outputs": [],
   "source": [
    "country_ca = df.groupby(\"country_long\")[\"capacity_mw\"].agg(sum)\n",
    "country_ca.sort_values().plot.barh(figsize = (15,35), color = \"teal\")\n",
    "plt.grid()\n",
    "plt.title(\"Total Electrical Generating Capacity by Country\")\n",
    "plt.xlabel(\"Million Megawatts\")\n",
    "plt.ylabel(\"Country\")"
   ]
  },
  {
   "cell_type": "code",
   "execution_count": null,
   "id": "378759dc-2875-40e7-b42c-c69694ba3e91",
   "metadata": {},
   "outputs": [],
   "source": [
    "country_ca.sort_values(ascending = False).head(5)"
   ]
  },
  {
   "cell_type": "markdown",
   "id": "208a5460-78d9-40f1-8fd7-2e374c28ef33",
   "metadata": {},
   "source": [
    "##### Above are the top 5 countries having the highest total electrical generating capacity. China and the US still top the chart. While not being the top 5 countries having the most power plants, India, Russia, and Japan have fairly high total electrical generating capacities in the world."
   ]
  },
  {
   "cell_type": "markdown",
   "id": "233ad497-252b-4cb0-84bd-cf8fed80f18f",
   "metadata": {},
   "source": [
    "* What are the most common primary fuels around the world?"
   ]
  },
  {
   "cell_type": "code",
   "execution_count": null,
   "id": "97455d20-41da-46cb-8e9d-5222ea67d1e0",
   "metadata": {},
   "outputs": [],
   "source": [
    "fuels = df.groupby(\"primary_fuel\").size()\n",
    "fuels.plot.bar(figsize = (10,5),color = \"palevioletred\")\n",
    "plt.title(\"Primary Fuels\")\n",
    "plt.xlabel(\"\")\n",
    "plt.ylabel(\"Number of Power Plants\")"
   ]
  },
  {
   "cell_type": "code",
   "execution_count": null,
   "id": "1774ff8d-9cb2-48d5-a5aa-fc62fca82b3e",
   "metadata": {},
   "outputs": [],
   "source": [
    "fuels.sort_values(ascending = False)"
   ]
  },
  {
   "cell_type": "markdown",
   "id": "fe9734d1-b5d7-48ee-a7f6-f5dac29ed026",
   "metadata": {},
   "source": [
    "##### According to the results, the 2 most common kinds of primary fuels are solar and hydro, which are used by 10,665 and 7,156 power plants around the world."
   ]
  },
  {
   "cell_type": "markdown",
   "id": "8fde1e90-2222-49a5-b1c1-9f15ec7d8626",
   "metadata": {},
   "source": [
    "* Which power plants are in the high latitudes?"
   ]
  },
  {
   "cell_type": "code",
   "execution_count": null,
   "id": "7404987a-5939-4cc6-b508-0b133237a23c",
   "metadata": {},
   "outputs": [],
   "source": [
    "lat = df[[\"country_long\", \"name\", \"latitude\"]]\n",
    "lat.sort_values(ascending = False, by = \"latitude\", key = abs).head(10)"
   ]
  },
  {
   "cell_type": "markdown",
   "id": "a437ccc7-9657-4cc5-a1a5-abef719e93a7",
   "metadata": {},
   "source": [
    "##### Above are the top 10 power plants around the world in the high latitudes. They're all in Antarctica, Norway, and the US."
   ]
  }
 ],
 "metadata": {
  "kernelspec": {
   "display_name": "Python 3 (ipykernel)",
   "language": "python",
   "name": "python3"
  },
  "language_info": {
   "codemirror_mode": {
    "name": "ipython",
    "version": 3
   },
   "file_extension": ".py",
   "mimetype": "text/x-python",
   "name": "python",
   "nbconvert_exporter": "python",
   "pygments_lexer": "ipython3",
   "version": "3.9.7"
  }
 },
 "nbformat": 4,
 "nbformat_minor": 5
}
